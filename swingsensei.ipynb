{
 "cells": [
  {
   "cell_type": "markdown",
   "id": "504ba17f",
   "metadata": {},
   "source": [
    "# SwingSensei – a golf-practice chatbot<br><br>By Kamrin Naicker (CM2015 mid-term)"
   ]
  },
  {
   "cell_type": "code",
   "execution_count": null,
   "id": "8bd39eaf",
   "metadata": {},
   "outputs": [],
   "source": [
    "# If the marker runs this on a clean VM:\n",
    "%pip install -q -r requirements.txt\n",
    "\n",
    "from loader import loadIntents\n",
    "from matcher import match_intent\n",
    "from responder import respond"
   ]
  },
  {
   "cell_type": "code",
   "execution_count": null,
   "id": "2e0eb3eb",
   "metadata": {},
   "outputs": [],
   "source": [
    "pat2intent, intent2resp = loadIntents()  # finds intents.json automatically\n",
    "memory = {\"name\": \"Player\"}"
   ]
  },
  {
   "cell_type": "code",
   "execution_count": null,
   "id": "1a3e193e",
   "metadata": {},
   "outputs": [],
   "source": [
    "def main():\n",
    "\twhile True:\n",
    "\t\tuser = input(\"You: \").strip()\n",
    "\t\tif user.lower() in {\"exit\", \"quit\"}:\n",
    "\t\t\tprint(\"SwingSensei: Fairways and greens! 👋\")\n",
    "\t\t\tbreak\n",
    "\t\tintent = match_intent(user, pat2intent)\n",
    "\t\treply = respond(intent, user, intent2resp, memory)\n",
    "\t\tprint(\"SwingSensei:\", reply)"
   ]
  },
  {
   "cell_type": "markdown",
   "id": "4dfa64c5",
   "metadata": {},
   "source": [
    "“Run the next cell to chat; type exit to stop.”"
   ]
  },
  {
   "cell_type": "code",
   "execution_count": null,
   "id": "e2d28ea3",
   "metadata": {},
   "outputs": [],
   "source": [
    "main() # starts the loop; stop with ‘exit’"
   ]
  },
  {
   "cell_type": "markdown",
   "id": "1af07e60",
   "metadata": {},
   "source": [
    "# Reflection (Fill During Project)"
   ]
  },
  {
   "cell_type": "code",
   "execution_count": null,
   "id": "e1cb4b53",
   "metadata": {},
   "outputs": [],
   "source": [
    "assert match_intent(\"Hello\", pat2intent) == \"greet\""
   ]
  }
 ],
 "metadata": {
  "kernelspec": {
   "display_name": ".venv",
   "language": "python",
   "name": "python3"
  },
  "language_info": {
   "codemirror_mode": {
    "name": "ipython",
    "version": 3
   },
   "file_extension": ".py",
   "mimetype": "text/x-python",
   "name": "python",
   "nbconvert_exporter": "python",
   "pygments_lexer": "ipython3",
   "version": "3.13.2"
  }
 },
 "nbformat": 4,
 "nbformat_minor": 5
}
